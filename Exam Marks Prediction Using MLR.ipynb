{
 "cells": [
  {
   "cell_type": "markdown",
   "id": "b438915f",
   "metadata": {},
   "source": [
    "## Importing Libraries"
   ]
  },
  {
   "cell_type": "code",
   "execution_count": 1,
   "id": "e5bf6092",
   "metadata": {},
   "outputs": [],
   "source": [
    "import pandas as ps\n",
    "import numpy as np\n",
    "import matplotlib.pyplot as plt\n",
    "import seaborn as sns"
   ]
  },
  {
   "cell_type": "markdown",
   "id": "8bc8b3df",
   "metadata": {},
   "source": [
    "## Loading Dataset"
   ]
  },
  {
   "cell_type": "markdown",
   "id": "219df7d7",
   "metadata": {},
   "source": [
    "Though I dont have a dataset I am creating one so that i can show multi linear regression among the features that is how the columns affecting the target variable."
   ]
  },
  {
   "cell_type": "code",
   "execution_count": 2,
   "id": "e851449f",
   "metadata": {},
   "outputs": [
    {
     "name": "stdout",
     "output_type": "stream",
     "text": [
      "      hours  age  internet      marks\n",
      "0  1.583932   27         0  54.406893\n",
      "1  7.642267   22         0  62.121224\n",
      "2  3.293238   18         1  72.358529\n",
      "3  7.326060   29         1  98.000000\n",
      "4  1.715051   25         0  67.846860\n"
     ]
    }
   ],
   "source": [
    "import pandas as pd\n",
    "import numpy as np\n",
    "\n",
    "# Define the number of samples to generate\n",
    "num_samples = 1000\n",
    "\n",
    "# Define the ranges for hours, age, internet and marks\n",
    "hours_range = [1, 9]\n",
    "age_range = [10, 35]\n",
    "internet_range = [0, 1]\n",
    "marks_range = [0, 98]\n",
    "\n",
    "# Generate random values for each feature\n",
    "hours = np.random.uniform(hours_range[0], hours_range[1], num_samples)\n",
    "age = np.random.randint(age_range[0], age_range[1]+1, num_samples)\n",
    "internet = np.random.randint(internet_range[0], internet_range[1]+1, num_samples)\n",
    "marks = np.random.normal(loc=(hours*5 + age*2 + internet*10), scale=10, size=num_samples)\n",
    "marks = np.clip(marks, marks_range[0], marks_range[1]) # Clip values outside of range\n",
    "\n",
    "# Create a DataFrame with the generated data\n",
    "df = pd.DataFrame({'hours': hours, 'age': age, 'internet': internet, 'marks': marks})\n",
    "\n",
    "# Print the first few rows of the DataFrame\n",
    "print(df.head())\n"
   ]
  },
  {
   "cell_type": "markdown",
   "id": "21265952",
   "metadata": {},
   "source": [
    "## Summarize"
   ]
  },
  {
   "cell_type": "code",
   "execution_count": 3,
   "id": "86dd05cc",
   "metadata": {},
   "outputs": [
    {
     "data": {
      "text/plain": [
       "(1000, 4)"
      ]
     },
     "execution_count": 3,
     "metadata": {},
     "output_type": "execute_result"
    }
   ],
   "source": [
    "df.shape"
   ]
  },
  {
   "cell_type": "code",
   "execution_count": 4,
   "id": "bc7a9cd0",
   "metadata": {},
   "outputs": [
    {
     "name": "stdout",
     "output_type": "stream",
     "text": [
      "<class 'pandas.core.frame.DataFrame'>\n",
      "RangeIndex: 1000 entries, 0 to 999\n",
      "Data columns (total 4 columns):\n",
      " #   Column    Non-Null Count  Dtype  \n",
      "---  ------    --------------  -----  \n",
      " 0   hours     1000 non-null   float64\n",
      " 1   age       1000 non-null   int32  \n",
      " 2   internet  1000 non-null   int32  \n",
      " 3   marks     1000 non-null   float64\n",
      "dtypes: float64(2), int32(2)\n",
      "memory usage: 23.6 KB\n"
     ]
    }
   ],
   "source": [
    "df.info()"
   ]
  },
  {
   "cell_type": "code",
   "execution_count": 5,
   "id": "83f818fa",
   "metadata": {},
   "outputs": [
    {
     "data": {
      "text/html": [
       "<div>\n",
       "<style scoped>\n",
       "    .dataframe tbody tr th:only-of-type {\n",
       "        vertical-align: middle;\n",
       "    }\n",
       "\n",
       "    .dataframe tbody tr th {\n",
       "        vertical-align: top;\n",
       "    }\n",
       "\n",
       "    .dataframe thead th {\n",
       "        text-align: right;\n",
       "    }\n",
       "</style>\n",
       "<table border=\"1\" class=\"dataframe\">\n",
       "  <thead>\n",
       "    <tr style=\"text-align: right;\">\n",
       "      <th></th>\n",
       "      <th>hours</th>\n",
       "      <th>age</th>\n",
       "      <th>internet</th>\n",
       "      <th>marks</th>\n",
       "    </tr>\n",
       "  </thead>\n",
       "  <tbody>\n",
       "    <tr>\n",
       "      <th>count</th>\n",
       "      <td>1000.000000</td>\n",
       "      <td>1000.000000</td>\n",
       "      <td>1000.000000</td>\n",
       "      <td>1000.000000</td>\n",
       "    </tr>\n",
       "    <tr>\n",
       "      <th>mean</th>\n",
       "      <td>5.062296</td>\n",
       "      <td>22.616000</td>\n",
       "      <td>0.470000</td>\n",
       "      <td>73.954177</td>\n",
       "    </tr>\n",
       "    <tr>\n",
       "      <th>std</th>\n",
       "      <td>2.320988</td>\n",
       "      <td>7.460442</td>\n",
       "      <td>0.499349</td>\n",
       "      <td>19.244099</td>\n",
       "    </tr>\n",
       "    <tr>\n",
       "      <th>min</th>\n",
       "      <td>1.008795</td>\n",
       "      <td>10.000000</td>\n",
       "      <td>0.000000</td>\n",
       "      <td>13.763767</td>\n",
       "    </tr>\n",
       "    <tr>\n",
       "      <th>25%</th>\n",
       "      <td>3.049958</td>\n",
       "      <td>16.000000</td>\n",
       "      <td>0.000000</td>\n",
       "      <td>60.641705</td>\n",
       "    </tr>\n",
       "    <tr>\n",
       "      <th>50%</th>\n",
       "      <td>5.055654</td>\n",
       "      <td>23.000000</td>\n",
       "      <td>0.000000</td>\n",
       "      <td>75.941064</td>\n",
       "    </tr>\n",
       "    <tr>\n",
       "      <th>75%</th>\n",
       "      <td>7.041690</td>\n",
       "      <td>29.000000</td>\n",
       "      <td>1.000000</td>\n",
       "      <td>90.598995</td>\n",
       "    </tr>\n",
       "    <tr>\n",
       "      <th>max</th>\n",
       "      <td>8.970402</td>\n",
       "      <td>35.000000</td>\n",
       "      <td>1.000000</td>\n",
       "      <td>98.000000</td>\n",
       "    </tr>\n",
       "  </tbody>\n",
       "</table>\n",
       "</div>"
      ],
      "text/plain": [
       "             hours          age     internet        marks\n",
       "count  1000.000000  1000.000000  1000.000000  1000.000000\n",
       "mean      5.062296    22.616000     0.470000    73.954177\n",
       "std       2.320988     7.460442     0.499349    19.244099\n",
       "min       1.008795    10.000000     0.000000    13.763767\n",
       "25%       3.049958    16.000000     0.000000    60.641705\n",
       "50%       5.055654    23.000000     0.000000    75.941064\n",
       "75%       7.041690    29.000000     1.000000    90.598995\n",
       "max       8.970402    35.000000     1.000000    98.000000"
      ]
     },
     "execution_count": 5,
     "metadata": {},
     "output_type": "execute_result"
    }
   ],
   "source": [
    "df.describe()"
   ]
  },
  {
   "cell_type": "markdown",
   "id": "22c8a2db",
   "metadata": {},
   "source": [
    "## Segregating Dataset into input X and output Y"
   ]
  },
  {
   "cell_type": "code",
   "execution_count": 6,
   "id": "6669e6fd",
   "metadata": {},
   "outputs": [
    {
     "data": {
      "text/plain": [
       "array([[ 1.58393212, 27.        ,  0.        ],\n",
       "       [ 7.64226691, 22.        ,  0.        ],\n",
       "       [ 3.29323845, 18.        ,  1.        ],\n",
       "       ...,\n",
       "       [ 7.10197527, 29.        ,  0.        ],\n",
       "       [ 6.76525966, 31.        ,  0.        ],\n",
       "       [ 2.09757025, 27.        ,  0.        ]])"
      ]
     },
     "execution_count": 6,
     "metadata": {},
     "output_type": "execute_result"
    }
   ],
   "source": [
    "X = df.iloc[:,:-1].values\n",
    "X"
   ]
  },
  {
   "cell_type": "code",
   "execution_count": 7,
   "id": "e184160b",
   "metadata": {},
   "outputs": [
    {
     "data": {
      "text/plain": [
       "(1000, 3)"
      ]
     },
     "execution_count": 7,
     "metadata": {},
     "output_type": "execute_result"
    }
   ],
   "source": [
    "X.shape"
   ]
  },
  {
   "cell_type": "code",
   "execution_count": 8,
   "id": "76c1c92e",
   "metadata": {},
   "outputs": [
    {
     "data": {
      "text/plain": [
       "array([54.40689339, 62.12122363, 72.35852884, 98.        , 67.84686019,\n",
       "       60.15452697, 93.3126494 , 84.53862018, 58.07983555, 98.        ,\n",
       "       95.6642344 , 90.17901803, 89.22455345, 41.01127423, 82.53600876,\n",
       "       84.62156075, 98.        , 86.20668148, 85.33138137, 63.9449178 ,\n",
       "       95.16862228, 69.27036704, 98.        , 52.40306449, 73.7844562 ,\n",
       "       98.        , 98.        , 95.65701948, 45.93311792, 71.94132281,\n",
       "       98.        , 52.93489889, 54.91920271, 78.54269741, 78.80007199,\n",
       "       77.83236731, 78.49183603, 57.72244756, 77.70534283, 62.43452066,\n",
       "       82.68908276, 59.79690923, 82.19505389, 98.        , 72.99172324,\n",
       "       80.10384665, 98.        , 98.        , 51.44714611, 82.31403187,\n",
       "       24.65212548, 91.7839338 , 98.        , 60.25994864, 58.94983268,\n",
       "       85.47722463, 51.7903659 , 98.        , 97.65057555, 58.89615856,\n",
       "       89.69189755, 98.        , 98.        , 80.91959231, 98.        ,\n",
       "       98.        , 66.75482788, 74.60478364, 69.01245413, 55.40273234,\n",
       "       71.05160212, 80.92176733, 72.65368286, 89.86073044, 64.9448045 ,\n",
       "       75.19938142, 92.81325082, 78.62319141, 62.48453012, 98.        ,\n",
       "       98.        , 71.27831461, 96.45799252, 59.16514378, 98.        ,\n",
       "       38.53198405, 77.59210107, 97.34550213, 78.84589833, 86.68846998,\n",
       "       74.46571422, 30.81346312, 69.48181083, 94.08944897, 78.42188786,\n",
       "       34.22114751, 98.        , 79.44237638, 90.91833793, 47.25145867,\n",
       "       51.76350774, 67.51069587, 98.        , 78.69324229, 71.52773395,\n",
       "       82.12636295, 48.60633301, 87.85972125, 44.49625742, 63.90865469,\n",
       "       78.01796676, 90.7937349 , 88.10521245, 69.40219925, 77.4701977 ,\n",
       "       28.51618838, 67.77176508, 75.56319032, 71.60033654, 73.10549664,\n",
       "       36.65770028, 48.82030137, 93.71357559, 73.12043307, 83.79991561,\n",
       "       56.69632463, 85.51131531, 87.36841811, 74.41506735, 91.48749743,\n",
       "       98.        , 36.11031819, 92.8329775 , 86.7977615 , 78.03961965,\n",
       "       92.92323738, 91.06052587, 67.30025888, 47.31160689, 98.        ,\n",
       "       98.        , 77.59864108, 67.29067924, 89.20695152, 70.69077525,\n",
       "       81.30308114, 79.05155491, 97.27416649, 95.13895793, 91.50707869,\n",
       "       98.        , 35.10154281, 75.91130488, 86.95425618, 93.87960233,\n",
       "       53.39005552, 96.92794732, 66.64867746, 79.15758811, 71.04138131,\n",
       "       73.87983996, 26.9412101 , 98.        , 77.91207005, 84.61134089,\n",
       "       52.79152534, 62.82520025, 90.34570875, 98.        , 43.33580421,\n",
       "       98.        , 85.61639136, 98.        , 68.08086623, 62.08248983,\n",
       "       45.55218319, 76.56667792, 46.82539842, 53.28988069, 76.77558645,\n",
       "       98.        , 75.14597718, 67.30633261, 98.        , 78.29947848,\n",
       "       24.32680944, 75.56221579, 75.94961618, 86.68459081, 54.28110751,\n",
       "       97.6809553 , 79.0511219 , 48.51447947, 98.        , 98.        ,\n",
       "       88.14259519, 98.        , 97.10823232, 98.        , 63.52861413,\n",
       "       67.31835224, 98.        , 95.0369721 , 56.96090272, 49.69891627,\n",
       "       42.84458802, 96.17278283, 54.32637705, 58.85087739, 82.61205011,\n",
       "       98.        , 73.01333629, 64.24800783, 94.05010441, 83.66862172,\n",
       "       93.36311076, 47.96886783, 84.46772584, 47.32666847, 67.87333557,\n",
       "       77.51376167, 49.28616104, 77.28978561, 98.        , 82.56385358,\n",
       "       79.75031449, 76.62344869, 77.21477959, 79.48641151, 35.64505292,\n",
       "       63.10754896, 65.777705  , 58.43569353, 77.46210729, 81.49586801,\n",
       "       76.27562072, 37.3661914 , 47.17212122, 65.37121676, 98.        ,\n",
       "       87.21693702, 98.        , 68.62656363, 74.81463631, 85.35008352,\n",
       "       79.80643451, 91.34511499, 87.28980799, 60.76895706, 88.21048872,\n",
       "       74.21508965, 64.76446296, 90.68895274, 67.44727717, 59.64258224,\n",
       "       87.91668394, 60.80835546, 96.6164874 , 71.36728231, 77.82327263,\n",
       "       89.913793  , 84.10171517, 69.92440323, 95.14747498, 54.00953045,\n",
       "       60.98698561, 96.72642299, 74.76875022, 56.39557002, 63.51238679,\n",
       "       78.13196171, 90.33339115, 90.16664857, 84.09263133, 58.6156125 ,\n",
       "       72.39536529, 27.4245405 , 87.90600981, 98.        , 90.4899968 ,\n",
       "       41.07248213, 96.63310922, 68.37317589, 76.45962557, 77.01293382,\n",
       "       98.        , 91.2499533 , 98.        , 80.71555478, 72.15999222,\n",
       "       43.68282665, 75.98949742, 97.0622552 , 63.75797153, 42.68346072,\n",
       "       33.85223479, 55.66733945, 75.50131305, 98.        , 98.        ,\n",
       "       66.10926994, 62.12890349, 65.80599424, 67.60024941, 57.74292616,\n",
       "       75.81161298, 59.87658234, 46.33036024, 64.61525648, 25.59236057,\n",
       "       91.41899181, 98.        , 83.0378663 , 63.89406739, 76.31133885,\n",
       "       95.61487393, 91.58522871, 61.1271347 , 56.0440835 , 75.7776343 ,\n",
       "       87.10868379, 94.57034947, 48.39918849, 52.01728862, 69.61747066,\n",
       "       35.3814588 , 98.        , 59.89638722, 96.21458195, 55.83349079,\n",
       "       98.        , 98.        , 66.71510142, 57.11719338, 33.42233548,\n",
       "       82.87255219, 81.82685146, 93.52311893, 68.08594562, 98.        ,\n",
       "       58.28897112, 84.9773651 , 98.        , 92.35920668, 64.54600209,\n",
       "       85.98260403, 41.80510474, 76.69505418, 58.84931407, 98.        ,\n",
       "       63.41439899, 98.        , 43.37260486, 56.77398844, 70.59723976,\n",
       "       78.73498224, 87.38267821, 62.03831648, 74.16837966, 88.6082466 ,\n",
       "       94.91798064, 76.07967753, 61.75878477, 81.75223788, 94.26384407,\n",
       "       98.        , 81.57393139, 52.42167599, 52.14671853, 98.        ,\n",
       "       96.65907418, 34.79783017, 53.47826541, 31.18486709, 84.59932685,\n",
       "       57.12411405, 80.72726394, 68.79413471, 98.        , 74.91515884,\n",
       "       95.09347381, 49.48842385, 98.        , 84.9321659 , 75.29920917,\n",
       "       72.54986411, 76.02194033, 98.        , 98.        , 98.        ,\n",
       "       79.42545735, 87.41888256, 48.36903886, 73.83891714, 77.03636467,\n",
       "       98.        , 24.51744478, 66.60073646, 96.4985535 , 45.26417289,\n",
       "       62.85704043, 78.22408831, 82.06045081, 61.28524921, 98.        ,\n",
       "       65.9913022 , 57.64898575, 86.89529027, 75.55076747, 81.09067745,\n",
       "       98.        , 79.48070133, 87.69906868, 52.82078616, 66.91640543,\n",
       "       89.14625861, 80.220295  , 71.65511166, 98.        , 49.72071324,\n",
       "       70.83335299, 63.76343058, 88.79562122, 68.10442784, 83.91312692,\n",
       "       64.6831975 , 56.35666603, 90.76745468, 18.49914156, 85.27827025,\n",
       "       73.50184716, 61.44831129, 61.2789525 , 98.        , 74.55431863,\n",
       "       83.97203835, 74.51094078, 50.7589234 , 69.93929085, 85.64218472,\n",
       "       98.        , 82.23223975, 87.28990599, 98.        , 53.45070443,\n",
       "       66.44498849, 44.80545184, 93.55991903, 74.34345932, 56.96669294,\n",
       "       80.84110192, 98.        , 41.74196236, 78.42644061, 66.75602697,\n",
       "       34.50035844, 98.        , 98.        , 91.55011341, 55.1102563 ,\n",
       "       39.69697945, 48.83939683, 48.18798468, 71.62639308, 58.57566707,\n",
       "       98.        , 34.6801685 , 77.20422168, 67.09791538, 88.50283192,\n",
       "       95.45746965, 79.51087578, 57.49292542, 98.        , 74.93489556,\n",
       "       88.97571106, 39.39725551, 63.0153583 , 42.3351453 , 39.32529828,\n",
       "       98.        , 33.81417211, 72.11361678, 98.        , 83.19019643,\n",
       "       98.        , 95.86302009, 69.6635708 , 76.91597517, 82.25731004,\n",
       "       53.46098413, 50.24396807, 94.07230524, 98.        , 56.80636703,\n",
       "       84.8640102 , 53.85611614, 59.39148355, 98.        , 65.07165057,\n",
       "       69.39015778, 77.32715845, 30.00873432, 63.87974637, 88.9614266 ,\n",
       "       63.65283642, 63.04910667, 84.33569861, 51.7141599 , 40.40755353,\n",
       "       98.        , 80.2850703 , 81.33689956, 98.        , 98.        ,\n",
       "       90.08324094, 88.46596152, 87.16251989, 68.35368603, 28.30841155,\n",
       "       97.37693396, 85.86506592, 53.97256572, 54.80638126, 65.26785729,\n",
       "       98.        , 98.        , 79.88159644, 80.71319695, 74.72809557,\n",
       "       47.83470757, 93.58920834, 31.71465496, 95.56353447, 81.1125478 ,\n",
       "       74.93616126, 98.        , 63.94949021, 88.81191332, 98.        ,\n",
       "       89.11508477, 53.7577332 , 76.70525591, 87.04293626, 71.43184283,\n",
       "       62.47510303, 98.        , 77.54795441, 72.81788968, 75.57852535,\n",
       "       43.63664294, 65.5915279 , 50.16289857, 98.        , 95.15463265,\n",
       "       46.85082543, 82.59905889, 80.97734713, 98.        , 23.21090348,\n",
       "       68.17424744, 91.43285342, 98.        , 91.20071484, 98.        ,\n",
       "       52.35457385, 90.32614796, 76.74560212, 68.23250593, 98.        ,\n",
       "       75.07043834, 38.4103395 , 58.48331113, 84.25105581, 98.        ,\n",
       "       75.93251244, 94.28056358, 54.95083225, 77.67948502, 43.70702293,\n",
       "       52.03214189, 76.90026819, 13.76376667, 98.        , 71.84498234,\n",
       "       90.53167346, 80.15277678, 82.05209604, 40.44664099, 98.        ,\n",
       "       43.98303105, 53.16189001, 36.45527415, 97.70226591, 76.75576083,\n",
       "       67.46074888, 98.        , 63.01512186, 48.16137597, 91.49059783,\n",
       "       87.88899377, 59.73049836, 98.        , 51.69083116, 62.6754809 ,\n",
       "       81.95144627, 56.9977273 , 59.60655862, 76.2335775 , 98.        ,\n",
       "       42.53465536, 98.        , 64.58213133, 57.35789252, 68.90919236,\n",
       "       98.        , 75.41952575, 98.        , 98.        , 98.        ,\n",
       "       59.83112339, 85.55255626, 98.        , 60.12171706, 78.7769042 ,\n",
       "       75.55294328, 41.92962381, 67.13598828, 83.0838706 , 58.24971989,\n",
       "       81.31831346, 54.53787099, 36.85487824, 93.05004124, 73.98123326,\n",
       "       55.01659978, 71.79548904, 82.10780992, 98.        , 66.60371689,\n",
       "       20.1005708 , 77.42838416, 97.56523462, 65.54268369, 88.90246292,\n",
       "       67.16678664, 86.10760136, 60.01572493, 74.68187336, 85.86755396,\n",
       "       41.18019526, 90.59856965, 86.55590592, 98.        , 81.4026746 ,\n",
       "       58.3855003 , 47.92495706, 67.6015088 , 31.23158572, 67.78587315,\n",
       "       45.69581171, 86.67427201, 43.31189967, 69.89035759, 98.        ,\n",
       "       72.36523264, 81.33378575, 69.05809813, 87.40083456, 69.57022369,\n",
       "       73.82721185, 98.        , 82.40259394, 50.83949399, 97.86332124,\n",
       "       98.        , 60.22989142, 66.08081609, 98.        , 47.66421544,\n",
       "       53.7791045 , 98.        , 47.6476347 , 70.25327462, 58.92633324,\n",
       "       73.5022734 , 98.        , 98.        , 50.92318912, 57.53849685,\n",
       "       54.13783722, 73.76998617, 79.42261205, 64.8899451 , 64.19230606,\n",
       "       88.36921062, 22.02134636, 56.44154353, 98.        , 67.77334582,\n",
       "       60.00778101, 41.63035506, 42.37401245, 81.89662483, 86.90751867,\n",
       "       81.55251446, 98.        , 84.04980539, 68.05657106, 86.98619781,\n",
       "       56.26091688, 75.83270636, 79.7213528 , 75.5316873 , 77.9498884 ,\n",
       "       98.        , 53.35407402, 39.64222238, 91.86199591, 67.68710338,\n",
       "       79.6066131 , 47.19645193, 62.8350189 , 98.        , 91.14165182,\n",
       "       68.25236037, 91.30467116, 55.24710391, 98.        , 96.69150065,\n",
       "       87.98763818, 74.93733255, 98.        , 76.1085305 , 56.35792901,\n",
       "       98.        , 29.928217  , 64.95226654, 24.19983042, 85.75310421,\n",
       "       53.34082144, 98.        , 45.07899928, 74.26640657, 98.        ,\n",
       "       26.63655666, 73.60796035, 45.28863749, 96.87657354, 69.85408212,\n",
       "       63.75867006, 39.52541371, 75.02583703, 74.70865216, 59.68786316,\n",
       "       87.69136002, 85.69226117, 70.31012054, 68.94524197, 95.00891289,\n",
       "       85.75008978, 97.35775071, 55.57614393, 25.86916522, 98.        ,\n",
       "       54.88033332, 96.49097534, 38.33687263, 87.48013057, 38.88536422,\n",
       "       64.86954001, 87.22003833, 72.55314326, 63.99475251, 98.        ,\n",
       "       66.78300879, 69.8593978 , 75.37329869, 74.06990888, 81.4458954 ,\n",
       "       68.95376071, 63.13774034, 80.14812334, 98.        , 82.33926632,\n",
       "       74.24113159, 98.        , 76.27137306, 98.        , 48.09520725,\n",
       "       52.14097604, 98.        , 72.25096752, 47.62733381, 85.40118441,\n",
       "       52.79819201, 49.82712935, 93.14462699, 38.08899468, 68.66426649,\n",
       "       88.95496287, 64.960639  , 82.01150971, 66.37561049, 55.62265352,\n",
       "       75.03663182, 74.46913206, 85.65004246, 98.        , 34.48760106,\n",
       "       66.18055559, 49.7601859 , 98.        , 65.64068254, 83.92796222,\n",
       "       98.        , 87.37095983, 42.66413712, 65.97751327, 48.06389167,\n",
       "       49.08027742, 72.9362408 , 87.94332759, 55.78045919, 84.83302564,\n",
       "       67.98355594, 68.75770984, 71.37079988, 70.30018593, 69.77309107,\n",
       "       73.35916917, 98.        , 79.92540209, 25.37455106, 56.74362685,\n",
       "       95.43227652, 77.1310256 , 98.        , 82.31022342, 55.75222073,\n",
       "       37.49586423, 69.35713744, 64.21315239, 58.2003315 , 47.40624219,\n",
       "       98.        , 67.7230073 , 61.31803681, 85.37518103, 87.94126491,\n",
       "       64.36578916, 67.20023851, 82.22750318, 57.68808989, 72.71211801,\n",
       "       77.15610639, 70.63663708, 51.09108369, 67.78719762, 98.        ,\n",
       "       77.85779954, 79.64697143, 98.        , 98.        , 72.42674126,\n",
       "       44.83537104, 88.44957009, 92.25195801, 92.89811307, 82.94670393,\n",
       "       98.        , 86.51404308, 57.82404114, 69.6049315 , 61.09088718,\n",
       "       66.93064028, 62.95603033, 57.00315912, 57.61220014, 23.67466801,\n",
       "       98.        , 48.38180443, 98.        , 66.91180553, 98.        ,\n",
       "       47.07608413, 98.        , 98.        , 98.        , 74.60481475,\n",
       "       57.2029628 , 98.        , 65.68066187, 62.35722874, 54.02135397,\n",
       "       90.40678214, 83.45574489, 98.        , 83.54694593, 78.83842947,\n",
       "       73.7445924 , 98.        , 36.96287592, 33.27927178, 70.69483306,\n",
       "       79.73070515, 84.23221244, 98.        , 48.17643085, 46.79360007,\n",
       "       74.67745564, 71.53253333, 82.87393117, 73.04869931, 85.61090677,\n",
       "       45.98478102, 61.40063443, 42.14253061, 81.53911761, 49.13953678,\n",
       "       98.        , 58.88020741, 91.28194301, 83.66597844, 86.43983825,\n",
       "       87.78117286, 43.38467207, 84.10005509, 71.66971546, 98.        ,\n",
       "       98.        , 83.23355861, 62.96275167, 98.        , 98.        ,\n",
       "       88.52972947, 54.41687635, 90.60026986, 29.4787892 , 66.35555924,\n",
       "       93.71158535, 63.78736216, 80.48896517, 96.57339146, 62.61438485,\n",
       "       59.53825689, 61.51963659, 57.21684987, 85.24572507, 42.95735687,\n",
       "       98.        , 98.        , 82.00372075, 70.49684768, 69.5799675 ,\n",
       "       64.41817397, 83.93354377, 91.28577523, 98.        , 80.54931322,\n",
       "       80.99207495, 98.        , 61.46238948, 98.        , 71.00050529,\n",
       "       98.        , 98.        , 95.14313878, 88.12425729, 61.30277512,\n",
       "       52.04866311, 34.63328077, 87.88492376, 55.84249471, 58.14856561,\n",
       "       98.        , 54.18269631, 66.13822177, 72.25004547, 98.        ,\n",
       "       87.3990653 , 81.2213681 , 60.93122539, 76.0456436 , 69.49747537,\n",
       "       94.79489979, 98.        , 28.03528643, 96.44893692, 64.59997882,\n",
       "       78.45639971, 98.        , 68.52068746, 98.        , 59.84563929,\n",
       "       69.67397945, 28.52355202, 84.85203876, 98.        , 51.77079173])"
      ]
     },
     "execution_count": 8,
     "metadata": {},
     "output_type": "execute_result"
    }
   ],
   "source": [
    "Y = df.iloc[:,-1].values\n",
    "Y"
   ]
  },
  {
   "cell_type": "code",
   "execution_count": 9,
   "id": "ebc4bb1b",
   "metadata": {},
   "outputs": [],
   "source": [
    "Y = Y.reshape(len(Y),1)"
   ]
  },
  {
   "cell_type": "code",
   "execution_count": 10,
   "id": "67d80a2d",
   "metadata": {},
   "outputs": [
    {
     "data": {
      "text/plain": [
       "(1000, 1)"
      ]
     },
     "execution_count": 10,
     "metadata": {},
     "output_type": "execute_result"
    }
   ],
   "source": [
    "Y.shape"
   ]
  },
  {
   "cell_type": "markdown",
   "id": "ef56b4bd",
   "metadata": {},
   "source": [
    "## Splitting Data Using Train Test Split"
   ]
  },
  {
   "cell_type": "code",
   "execution_count": 11,
   "id": "3a1254c8",
   "metadata": {},
   "outputs": [
    {
     "data": {
      "text/plain": [
       "array([[ 6.76153783, 24.        ,  1.        ],\n",
       "       [ 4.37495846, 31.        ,  0.        ],\n",
       "       [ 2.02970925, 21.        ,  1.        ],\n",
       "       ...,\n",
       "       [ 4.02650626, 19.        ,  1.        ],\n",
       "       [ 1.56820459, 14.        ,  0.        ],\n",
       "       [ 1.71192575, 23.        ,  1.        ]])"
      ]
     },
     "execution_count": 11,
     "metadata": {},
     "output_type": "execute_result"
    }
   ],
   "source": [
    "from sklearn.model_selection import train_test_split\n",
    "X_train ,X_test ,y_train ,y_test = train_test_split(X,Y,test_size=0.2,random_state=0)\n",
    "X_train"
   ]
  },
  {
   "cell_type": "code",
   "execution_count": 12,
   "id": "4d1d29c6",
   "metadata": {},
   "outputs": [
    {
     "data": {
      "text/plain": [
       "(200, 3)"
      ]
     },
     "execution_count": 12,
     "metadata": {},
     "output_type": "execute_result"
    }
   ],
   "source": [
    "X_test.shape"
   ]
  },
  {
   "cell_type": "markdown",
   "id": "e7169378",
   "metadata": {},
   "source": [
    "## Training the Model using Linear Regression"
   ]
  },
  {
   "cell_type": "code",
   "execution_count": 13,
   "id": "29c7a99d",
   "metadata": {},
   "outputs": [],
   "source": [
    "from sklearn.linear_model import LinearRegression\n",
    "model = LinearRegression()"
   ]
  },
  {
   "cell_type": "code",
   "execution_count": 14,
   "id": "e7c63aa3",
   "metadata": {},
   "outputs": [
    {
     "data": {
      "text/html": [
       "<style>#sk-container-id-1 {color: black;background-color: white;}#sk-container-id-1 pre{padding: 0;}#sk-container-id-1 div.sk-toggleable {background-color: white;}#sk-container-id-1 label.sk-toggleable__label {cursor: pointer;display: block;width: 100%;margin-bottom: 0;padding: 0.3em;box-sizing: border-box;text-align: center;}#sk-container-id-1 label.sk-toggleable__label-arrow:before {content: \"▸\";float: left;margin-right: 0.25em;color: #696969;}#sk-container-id-1 label.sk-toggleable__label-arrow:hover:before {color: black;}#sk-container-id-1 div.sk-estimator:hover label.sk-toggleable__label-arrow:before {color: black;}#sk-container-id-1 div.sk-toggleable__content {max-height: 0;max-width: 0;overflow: hidden;text-align: left;background-color: #f0f8ff;}#sk-container-id-1 div.sk-toggleable__content pre {margin: 0.2em;color: black;border-radius: 0.25em;background-color: #f0f8ff;}#sk-container-id-1 input.sk-toggleable__control:checked~div.sk-toggleable__content {max-height: 200px;max-width: 100%;overflow: auto;}#sk-container-id-1 input.sk-toggleable__control:checked~label.sk-toggleable__label-arrow:before {content: \"▾\";}#sk-container-id-1 div.sk-estimator input.sk-toggleable__control:checked~label.sk-toggleable__label {background-color: #d4ebff;}#sk-container-id-1 div.sk-label input.sk-toggleable__control:checked~label.sk-toggleable__label {background-color: #d4ebff;}#sk-container-id-1 input.sk-hidden--visually {border: 0;clip: rect(1px 1px 1px 1px);clip: rect(1px, 1px, 1px, 1px);height: 1px;margin: -1px;overflow: hidden;padding: 0;position: absolute;width: 1px;}#sk-container-id-1 div.sk-estimator {font-family: monospace;background-color: #f0f8ff;border: 1px dotted black;border-radius: 0.25em;box-sizing: border-box;margin-bottom: 0.5em;}#sk-container-id-1 div.sk-estimator:hover {background-color: #d4ebff;}#sk-container-id-1 div.sk-parallel-item::after {content: \"\";width: 100%;border-bottom: 1px solid gray;flex-grow: 1;}#sk-container-id-1 div.sk-label:hover label.sk-toggleable__label {background-color: #d4ebff;}#sk-container-id-1 div.sk-serial::before {content: \"\";position: absolute;border-left: 1px solid gray;box-sizing: border-box;top: 0;bottom: 0;left: 50%;z-index: 0;}#sk-container-id-1 div.sk-serial {display: flex;flex-direction: column;align-items: center;background-color: white;padding-right: 0.2em;padding-left: 0.2em;position: relative;}#sk-container-id-1 div.sk-item {position: relative;z-index: 1;}#sk-container-id-1 div.sk-parallel {display: flex;align-items: stretch;justify-content: center;background-color: white;position: relative;}#sk-container-id-1 div.sk-item::before, #sk-container-id-1 div.sk-parallel-item::before {content: \"\";position: absolute;border-left: 1px solid gray;box-sizing: border-box;top: 0;bottom: 0;left: 50%;z-index: -1;}#sk-container-id-1 div.sk-parallel-item {display: flex;flex-direction: column;z-index: 1;position: relative;background-color: white;}#sk-container-id-1 div.sk-parallel-item:first-child::after {align-self: flex-end;width: 50%;}#sk-container-id-1 div.sk-parallel-item:last-child::after {align-self: flex-start;width: 50%;}#sk-container-id-1 div.sk-parallel-item:only-child::after {width: 0;}#sk-container-id-1 div.sk-dashed-wrapped {border: 1px dashed gray;margin: 0 0.4em 0.5em 0.4em;box-sizing: border-box;padding-bottom: 0.4em;background-color: white;}#sk-container-id-1 div.sk-label label {font-family: monospace;font-weight: bold;display: inline-block;line-height: 1.2em;}#sk-container-id-1 div.sk-label-container {text-align: center;}#sk-container-id-1 div.sk-container {/* jupyter's `normalize.less` sets `[hidden] { display: none; }` but bootstrap.min.css set `[hidden] { display: none !important; }` so we also need the `!important` here to be able to override the default hidden behavior on the sphinx rendered scikit-learn.org. See: https://github.com/scikit-learn/scikit-learn/issues/21755 */display: inline-block !important;position: relative;}#sk-container-id-1 div.sk-text-repr-fallback {display: none;}</style><div id=\"sk-container-id-1\" class=\"sk-top-container\"><div class=\"sk-text-repr-fallback\"><pre>LinearRegression()</pre><b>In a Jupyter environment, please rerun this cell to show the HTML representation or trust the notebook. <br />On GitHub, the HTML representation is unable to render, please try loading this page with nbviewer.org.</b></div><div class=\"sk-container\" hidden><div class=\"sk-item\"><div class=\"sk-estimator sk-toggleable\"><input class=\"sk-toggleable__control sk-hidden--visually\" id=\"sk-estimator-id-1\" type=\"checkbox\" checked><label for=\"sk-estimator-id-1\" class=\"sk-toggleable__label sk-toggleable__label-arrow\">LinearRegression</label><div class=\"sk-toggleable__content\"><pre>LinearRegression()</pre></div></div></div></div></div>"
      ],
      "text/plain": [
       "LinearRegression()"
      ]
     },
     "execution_count": 14,
     "metadata": {},
     "output_type": "execute_result"
    }
   ],
   "source": [
    "model.fit(X_train,y_train)"
   ]
  },
  {
   "cell_type": "markdown",
   "id": "5ab6155a",
   "metadata": {},
   "source": [
    "## Predicting for Test Data"
   ]
  },
  {
   "cell_type": "code",
   "execution_count": 15,
   "id": "be4203ec",
   "metadata": {},
   "outputs": [],
   "source": [
    "y_pred = model.predict(X_test)"
   ]
  },
  {
   "cell_type": "code",
   "execution_count": 16,
   "id": "c111c6b7",
   "metadata": {},
   "outputs": [
    {
     "name": "stdout",
     "output_type": "stream",
     "text": [
      "      y_pred     y_test\n",
      "0  87.368554  98.000000\n",
      "1  88.523964  98.000000\n",
      "2  99.667879  98.000000\n",
      "3  84.089371  98.000000\n",
      "4  79.390330  82.402594\n"
     ]
    }
   ],
   "source": [
    "# Print the first few predicted and actual values\n",
    "print(pd.DataFrame({'y_pred': y_pred[:5].ravel(), 'y_test': y_test[:5].ravel()}))"
   ]
  },
  {
   "cell_type": "code",
   "execution_count": 17,
   "id": "9a31f2f3",
   "metadata": {},
   "outputs": [
    {
     "name": "stdout",
     "output_type": "stream",
     "text": [
      "Mean Squared Error: 87.66448984814872\n",
      "Root Mean Squared Error: 9.362931690883402\n",
      "R-squared: 0.7789569353965553\n",
      "Adjusted R-squared: 0.7755736231832373\n"
     ]
    }
   ],
   "source": [
    "from sklearn.metrics import mean_squared_error, r2_score\n",
    "import numpy as np\n",
    "\n",
    "# Calculate the mean squared error and root mean squared error\n",
    "mse = mean_squared_error(y_test, y_pred)\n",
    "rmse = np.sqrt(mse)\n",
    "\n",
    "# Calculate the R-squared and adjusted R-squared\n",
    "r2 = r2_score(y_test, y_pred)\n",
    "n = X_test.shape[0]\n",
    "p = X_test.shape[1]\n",
    "adj_r2 = 1 - (1 - r2) * ((n - 1) / (n - p - 1))\n",
    "\n",
    "print('Mean Squared Error:', mse)\n",
    "print('Root Mean Squared Error:', rmse)\n",
    "print('R-squared:', r2)\n",
    "print('Adjusted R-squared:', adj_r2)\n"
   ]
  },
  {
   "cell_type": "markdown",
   "id": "372d2a41",
   "metadata": {},
   "source": [
    "## Visualization Actual vs Predicted"
   ]
  },
  {
   "cell_type": "code",
   "execution_count": 18,
   "id": "70c8391e",
   "metadata": {},
   "outputs": [
    {
     "data": {
      "image/png": "[encoded data removed]",
      "text/plain": [
       "<Figure size 640x480 with 1 Axes>"
      ]
     },
     "metadata": {},
     "output_type": "display_data"
    }
   ],
   "source": [
    "# Generate predicted values for the test data\n",
    "y_pred = model.predict(X_test)\n",
    "\n",
    "# Create a scatter plot of the predicted values versus the actual values\n",
    "plt.scatter(y_test, y_pred)\n",
    "plt.xlabel('Actual values')\n",
    "plt.ylabel('Predicted values')\n",
    "plt.show()"
   ]
  },
  {
   "cell_type": "code",
   "execution_count": null,
   "id": "b387f3c0",
   "metadata": {},
   "outputs": [],
   "source": []
  }
 ],
 "metadata": {
  "kernelspec": {
   "display_name": "Python 3 (ipykernel)",
   "language": "python",
   "name": "python3"
  },
  "language_info": {
   "codemirror_mode": {
    "name": "ipython",
    "version": 3
   },
   "file_extension": ".py",
   "mimetype": "text/x-python",
   "name": "python",
   "nbconvert_exporter": "python",
   "pygments_lexer": "ipython3",
   "version": "3.10.9"
  }
 },
 "nbformat": 4,
 "nbformat_minor": 5
}
